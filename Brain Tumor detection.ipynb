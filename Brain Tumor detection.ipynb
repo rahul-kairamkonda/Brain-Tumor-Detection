{
 "cells": [
  {
   "cell_type": "code",
   "execution_count": 1,
   "metadata": {},
   "outputs": [],
   "source": [
    "#Training on Single Image\n",
    "import cv2\n",
    "from matplotlib import pyplot as plt\n",
    "\n",
    "img=cv2.imread('test_images/0 (237).jpg',0)\n",
    "height,width=img.shape\n",
    "imgFlatten=img.reshape(height*width,1)\n"
   ]
  },
  {
   "cell_type": "code",
   "execution_count": 2,
   "metadata": {},
   "outputs": [],
   "source": [
    "from sklearn.cluster import KMeans\n",
    "\n",
    "model=KMeans(n_clusters=6)\n",
    "model.fit(imgFlatten)\n",
    "labels=model.labels_\n",
    "labels2D=labels.reshape(height,width)"
   ]
  },
  {
   "cell_type": "code",
   "execution_count": 3,
   "metadata": {},
   "outputs": [
    {
     "data": {
      "image/png": "[encoded data removed]",
      "text/plain": [
       "<Figure size 432x288 with 2 Axes>"
      ]
     },
     "metadata": {
      "needs_background": "light"
     },
     "output_type": "display_data"
    }
   ],
   "source": [
    "plt.imshow(labels2D)\n",
    "plt.colorbar()\n",
    "plt.show()"
   ]
  },
  {
   "cell_type": "code",
   "execution_count": 5,
   "metadata": {},
   "outputs": [],
   "source": [
    "# detecting tumor on set of images\n",
    "import numpy as np\n",
    "import cv2\n",
    "import os\n",
    "import matplotlib.pyplot as plt\n",
    "tumorLabel=4\n"
   ]
  },
  {
   "cell_type": "code",
   "execution_count": 6,
   "metadata": {},
   "outputs": [
    {
     "name": "stdout",
     "output_type": "stream",
     "text": [
      "no. contours: 1645\n",
      "no. contours: 3113\n",
      "no. contours: 2734\n",
      "no. contours: 2920\n",
      "no. contours: 3076\n",
      "no. contours: 2453\n",
      "no. contours: 2357\n",
      "no. contours: 2734\n",
      "no. contours: 2894\n",
      "no. contours: 1726\n",
      "no. contours: 1742\n",
      "no. contours: 1075\n",
      "no. contours: 1586\n"
     ]
    }
   ],
   "source": [
    "test_img_path='test_images'\n",
    "test_img_names=os.listdir(test_img_path)\n",
    "for test_img_name in test_img_names:\n",
    "    img_path=os.path.join(test_img_path,test_img_name)\n",
    "    img=cv2.imread(img_path,0)\n",
    "    img_original=cv2.imread(img_path)\n",
    "    height,width=img.shape\n",
    "    imgFlatten=img.reshape(height*width,1)\n",
    "    labels=model.predict(imgFlatten)\n",
    "    labels2D=labels.reshape(height,width)\n",
    "    mask=(labels2D==tumorLabel)\n",
    "    tumorExtracted=np.bitwise_and(mask,img)\n",
    "    contours, hierarchy = cv2.findContours(tumorExtracted, cv2.RETR_TREE,cv2.CHAIN_APPROX_SIMPLE)\n",
    "    print('no. contours:',len(contours))\n",
    "    for i,cnt in enumerate(contours):\n",
    "    #cv2.drawContours(frame, [cnt], 0, (0,255,255), 3)\n",
    "        area=cv2.contourArea(cnt)\n",
    "        #print(area) \n",
    "        if(area>1000):\n",
    "            cv2.drawContours(img_original, [cnt], -1, (0,255,255), 2)\n",
    "            x,y,w,h = cv2.boundingRect(cnt)\n",
    "            cv2.rectangle(img_original,(x,y),(x+w,y+h),(0,255,0),2)\n",
    "            cv2.rectangle(img_original,(x,y),(x+120,y-40),(0,255,0),-1)\n",
    "            cv2.putText(img_original,\"TUMOR\",(x+10,y-10),cv2.FONT_HERSHEY_SIMPLEX,1,(255,255,255),2)\n",
    "            cv2.imshow(\"Detection\",img_original)\n",
    "            cv2.waitKey(2000)\n",
    "cv2.destroyAllWindows()"
   ]
  },
  {
   "cell_type": "code",
   "execution_count": null,
   "metadata": {},
   "outputs": [],
   "source": []
  }
 ],
 "metadata": {
  "kernelspec": {
   "display_name": "Python 3",
   "language": "python",
   "name": "python3"
  },
  "language_info": {
   "codemirror_mode": {
    "name": "ipython",
    "version": 3
   },
   "file_extension": ".py",
   "mimetype": "text/x-python",
   "name": "python",
   "nbconvert_exporter": "python",
   "pygments_lexer": "ipython3",
   "version": "3.7.4"
  }
 },
 "nbformat": 4,
 "nbformat_minor": 2
}
